{
 "cells": [
  {
   "cell_type": "markdown",
   "metadata": {},
   "source": [
    "## Demo 1"
   ]
  },
  {
   "cell_type": "code",
   "execution_count": 2,
   "metadata": {
    "collapsed": true
   },
   "outputs": [],
   "source": [
    "%matplotlib inline\n",
    "from igenetic.models import GA\n",
    "from solution import Solution"
   ]
  },
  {
   "cell_type": "markdown",
   "metadata": {},
   "source": [
    "### Дано:"
   ]
  },
  {
   "cell_type": "markdown",
   "metadata": {},
   "source": [
    "<img src=\"model.png\">"
   ]
  },
  {
   "cell_type": "markdown",
   "metadata": {},
   "source": [
    "$$\n",
    "    L = 500 cm \\\\\n",
    "    l = 100 cm \\\\\n",
    "    \\delta_{max} = 2.7 cm \\\\\n",
    "    \\sigma_{max} = 14000 N/cm^2 \\\\\n",
    "    E = 2 * 10^7 N/cm^2 \\\\\n",
    "    P = 50000 N \\\\\n",
    "$$"
   ]
  },
  {
   "cell_type": "markdown",
   "metadata": {},
   "source": [
    "### Ограничение 1 — минимизация объема"
   ]
  },
  {
   "cell_type": "markdown",
   "metadata": {},
   "source": [
    "$$V = l(x_1x_2 + x_3x_4 + x_5x_6 + x_7x_8 + x_9x_{10})$$"
   ]
  },
  {
   "cell_type": "markdown",
   "metadata": {},
   "source": [
    "### Ограничение 2 — отклонение концевого сечения"
   ]
  },
  {
   "cell_type": "markdown",
   "metadata": {},
   "source": [
    "$$\n",
    "    \\frac{Pl^3}{E}(\\frac{244}{x_1x_2^3} + \\frac{148}{x_3x_4^3} + \\frac{76}{x_5x_6^3} + \\frac{28}{x_7x_8^3} + \\frac{4}{x_9x_{10}^3}) \\leq \\delta_{max}\n",
    "$$"
   ]
  },
  {
   "cell_type": "markdown",
   "metadata": {},
   "source": [
    "### Ограничение 3 — напряжение при изгибе"
   ]
  },
  {
   "cell_type": "markdown",
   "metadata": {},
   "source": [
    "$$ \n",
    "    \\frac{6Pl}{x_9x_{10}^3} \\leq \\sigma_{max} \\\\\n",
    "    \\frac{6P(2l)}{x_7x_8^3} \\leq \\sigma_{max} \\\\\n",
    "    \\frac{6P(3l)}{x_5x_6^3} \\leq \\sigma_{max} \\\\\n",
    "    \\frac{6P(4l)}{x_3x_4^3} \\leq \\sigma_{max} \\\\\n",
    "    \\frac{6P(5l)}{x_1x_2^3} \\leq \\sigma_{max} \\\\\n",
    "$$"
   ]
  },
  {
   "cell_type": "code",
   "execution_count": 3,
   "metadata": {
    "collapsed": false
   },
   "outputs": [],
   "source": [
    "class SolutionMod1(Solution):\n",
    "    DELTA = 80\n",
    "    SIGMA = 14000\n",
    "\n",
    "    L = 500\n",
    "    l = 100\n",
    "    P = 30000\n",
    "    E = 2 * (10**7)\n",
    "\n",
    "population_size = 150\n",
    "generations = 200\n",
    "elite_size = 10"
   ]
  },
  {
   "cell_type": "code",
   "execution_count": 4,
   "metadata": {
    "collapsed": false
   },
   "outputs": [],
   "source": [
    "best, graph_data = GA(SolutionMod1, population_size, generations, elite_size).optimize()"
   ]
  },
  {
   "cell_type": "code",
   "execution_count": 5,
   "metadata": {
    "collapsed": false
   },
   "outputs": [
    {
     "data": {
      "text/plain": [
       "[3.06, 59.81, 2.68, 56.64, 2.56, 50.17, 1.49, 53.74, 1.2, 42.4]"
      ]
     },
     "execution_count": 5,
     "metadata": {},
     "output_type": "execute_result"
    }
   ],
   "source": [
    "[round(x, 2) for x in best._solution]"
   ]
  },
  {
   "cell_type": "code",
   "execution_count": 6,
   "metadata": {
    "collapsed": false
   },
   "outputs": [
    {
     "data": {
      "text/plain": [
       "59401.11203828753"
      ]
     },
     "execution_count": 6,
     "metadata": {},
     "output_type": "execute_result"
    }
   ],
   "source": [
    "best._volume()"
   ]
  },
  {
   "cell_type": "code",
   "execution_count": 7,
   "metadata": {
    "collapsed": false
   },
   "outputs": [
    {
     "data": {
      "text/plain": [
       "2.6923437038085787"
      ]
     },
     "execution_count": 7,
     "metadata": {},
     "output_type": "execute_result"
    }
   ],
   "source": [
    "best._delta()"
   ]
  },
  {
   "cell_type": "code",
   "execution_count": 8,
   "metadata": {
    "collapsed": false
   },
   "outputs": [
    {
     "data": {
      "text/plain": [
       "[13931.161742759621,\n",
       " 13919.341328059378,\n",
       " 13983.236286829388,\n",
       " 13984.391750057217,\n",
       " 13690.095975017904]"
      ]
     },
     "execution_count": 8,
     "metadata": {},
     "output_type": "execute_result"
    }
   ],
   "source": [
    "best._sigmas()"
   ]
  },
  {
   "cell_type": "code",
   "execution_count": 9,
   "metadata": {
    "collapsed": true
   },
   "outputs": [],
   "source": [
    "import matplotlib.pyplot as plt"
   ]
  },
  {
   "cell_type": "code",
   "execution_count": 10,
   "metadata": {
    "collapsed": false
   },
   "outputs": [
    {
     "data": {
      "text/plain": [
       "[<matplotlib.lines.Line2D at 0x10679a690>,\n",
       " <matplotlib.lines.Line2D at 0x1067b9ad0>]"
      ]
     },
     "execution_count": 10,
     "metadata": {},
     "output_type": "execute_result"
    },
    {
     "data": {
      "image/png": "[encoded data removed]",
      "text/plain": [
       "<matplotlib.figure.Figure at 0x10679a210>"
      ]
     },
     "metadata": {},
     "output_type": "display_data"
    }
   ],
   "source": [
    "x, best_solutions, mean = zip(*graph_data)\n",
    "mean_volumes = [1/m for m in mean]\n",
    "best_volumes = [b._volume() for b in best_solutions]\n",
    "plt.figure(num=None, figsize=(8, 8), dpi=100, facecolor='w', edgecolor='k')\n",
    "plt.ylim([55000, 80000])\n",
    "plt.ylabel(u'Volume')\n",
    "plt.xlabel(u'Generations')\n",
    "plt.grid(True)\n",
    "plt.plot(x, best_volumes, '.',\n",
    "         x, mean_volumes, '.')"
   ]
  },
  {
   "cell_type": "code",
   "execution_count": null,
   "metadata": {
    "collapsed": true
   },
   "outputs": [],
   "source": []
  }
 ],
 "metadata": {
  "kernelspec": {
   "display_name": "Python 2",
   "language": "python",
   "name": "python2"
  },
  "language_info": {
   "codemirror_mode": {
    "name": "ipython",
    "version": 2
   },
   "file_extension": ".py",
   "mimetype": "text/x-python",
   "name": "python",
   "nbconvert_exporter": "python",
   "pygments_lexer": "ipython2",
   "version": "2.7.6"
  }
 },
 "nbformat": 4,
 "nbformat_minor": 0
}
